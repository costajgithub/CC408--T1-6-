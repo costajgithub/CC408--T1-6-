{
 "cells": [
  {
   "cell_type": "markdown",
   "metadata": {
    "collapsed": true,
    "id": "Dh8MkXaG-c9Y",
    "jupyter": {
     "outputs_hidden": true
    }
   },
   "source": [
    "# Ciencia de datos (CC408) - Primavera 2024\n",
    "\n",
    "## Trabajo Práctico 1 - Parte 1 "
   ]
  },
  {
   "cell_type": "markdown",
   "metadata": {
    "editable": true,
    "id": "ZXbrPraa-c9i",
    "slideshow": {
     "slide_type": ""
    },
    "tags": []
   },
   "source": [
    "#### Ejercicio 1\n",
    "Este ejercicio simplemente busca repasar lo que aprendimos sobre definición de variables. Definir dos variables con un nombre combinado (al menos dos palabras), una que se pueda crear y otra que tenga un nombre inaceptable (genera error). Explicar por qué ocurre el error."
   ]
  },
  {
   "cell_type": "code",
   "execution_count": 15,
   "metadata": {
    "id": "mb7PkXfN-c9j"
   },
   "outputs": [
    {
     "ename": "SyntaxError",
     "evalue": "invalid character '¿' (U+00BF) (2852969428.py, line 5)",
     "output_type": "error",
     "traceback": [
      "\u001b[0;36m  Cell \u001b[0;32mIn[15], line 5\u001b[0;36m\u001b[0m\n\u001b[0;31m    ¿ = hola juan\u001b[0m\n\u001b[0m    ^\u001b[0m\n\u001b[0;31mSyntaxError\u001b[0m\u001b[0;31m:\u001b[0m invalid character '¿' (U+00BF)\n"
     ]
    }
   ],
   "source": [
    "# Caso A\n",
    "x = \"Hola juan\"\n",
    "x\n",
    "# Caso B (acá debería saltar un error)\n",
    "¿ = hola juan\n",
    "¿\n",
    "\n",
    "#Lo que mostramos acá es que una variable no puede llamarse con determinados caracteres."
   ]
  },
  {
   "cell_type": "markdown",
   "metadata": {},
   "source": [
    "#### Ejercicio 2\n",
    "Importar módulos. Usando el módulo math impriman la tangente de 1. ¿Cuál es el resultado?\n",
    "Hagan este cálculo de dos formas: primero importando el módulo math y usando la función correspondiente y luego solo importando la función específica que precisan para el cálculo."
   ]
  },
  {
   "cell_type": "code",
   "execution_count": 17,
   "metadata": {},
   "outputs": [
    {
     "name": "stdout",
     "output_type": "stream",
     "text": [
      "La tangente del caso A : 0.017455064928217585\n",
      "La tangente ddel caso B es : 0.017455064928217585\n"
     ]
    }
   ],
   "source": [
    "# Caso A\n",
    "import math \n",
    "\n",
    "angulo = 1\n",
    "\n",
    "# Yo quiero que mi ángulo sea uno, por consigna\n",
    "# Lo tengo que pasar a radianes, unidad de medida de los ángulos\n",
    "\n",
    "angulo_radianes = math.radians(angulo)\n",
    "\n",
    "# Calculamos con la funcón \".tan\" dentro del paquete Math, para esto tuvimos que importar todo el paquete\n",
    "tangente = math.tan(angulo_radianes)\n",
    "\n",
    "print(f\"La tangente del caso A : {tangente}\")\n",
    "\n",
    "# Caso B\n",
    "from math import tan, radians\n",
    "\n",
    "# Ángulo \n",
    "angulo_1 = 1\n",
    "\n",
    "# Lo pasamos a radianes, pero no hace falta llamar a la función \"math\", ya que importamos especificamente dos funciones(tan y radians)\n",
    "angulo_radianes = radians(angulo_1)\n",
    "\n",
    "# Calculamos la tangente\n",
    "tangente = tan(angulo_radianes)\n",
    "\n",
    "print(f\"La tangente ddel caso B es : {tangente}\")\n",
    "\n",
    "#La diferencia entre ambas soluciones es que en uno importamos el paquete completo y en otro dos funciones \n",
    "#especificas del paquete, por ende, es distinto cómo se \"llaman\" a las formulas\n",
    "\n"
   ]
  },
  {
   "cell_type": "markdown",
   "metadata": {
    "id": "GlNh0fyv-c9l"
   },
   "source": [
    "#### Ejercicio 3 \n",
    "Este ejercicio trata sobre lograr el intercambio de valores entre dos variables utilizando una variable temporal para hacerlo. Las variables temporales y la sustitución de valores termina siendo útil en algunos loops. Los pasos a seguir son: (a) definir variables A y B (cuyos valores buscaremos invertir); (b) definir una variable temporal que resguarde el valor de B; (c) sustitución (asignar B igual a A y también A igual al valor original de B); (d) imprimir valores para verificar."
   ]
  },
  {
   "cell_type": "code",
   "execution_count": null,
   "metadata": {
    "id": "uWalSYFC-c9m"
   },
   "outputs": [
    {
     "name": "stdout",
     "output_type": "stream",
     "text": [
      "2\n",
      "1\n",
      "2\n"
     ]
    }
   ],
   "source": [
    "# a) Definir variables A y B, \n",
    "a = 1\n",
    "b = 2\n",
    "\n",
    "# b) Definir variable temporal \"tmp\" igual a B (la variable, no el valor)\n",
    "tmp=b\n",
    "\n",
    "# c) Ahora sustituir variables: variable B igual a variable A (la variable, no el\n",
    "# valor) y viceversa.\n",
    "b=a\n",
    "a=tmp \n",
    "\n",
    "# d) Verifiquemos resultados: imprimir variables A y B\n",
    "print(a)\n",
    "print(b)\n",
    "print(tmp)\n",
    "# En este ejercicio usamos a la variable tmp, como una variable de uso temporal simplemente para guardar el valor de b.\n",
    "\n"
   ]
  },
  {
   "cell_type": "markdown",
   "metadata": {
    "id": "wXhAaRyN-c9p"
   },
   "source": [
    "#### Ejercicio 4\n",
    "En este ejercicio se busca poner en práctica el uso de range() en un for loop. \n",
    "\n",
    "Construir un for loop usando un range(). El range debe ser entre los valores que quieran (con una diferencia mínima de 15 entre start y stop), en incrementos de 3 unidades. Dentro del loop, implementar una sentencia condicional que imprima una leyenda indicando si el input es par o impar."
   ]
  },
  {
   "cell_type": "code",
   "execution_count": 21,
   "metadata": {
    "id": "_oE5sG0c-c9q"
   },
   "outputs": [
    {
     "name": "stdin",
     "output_type": "stream",
     "text": [
      "Numero:  3\n"
     ]
    },
    {
     "name": "stdout",
     "output_type": "stream",
     "text": [
      "{3} es impar\n",
      "{6} es par\n",
      "{9} es impar\n",
      "{12} es par\n",
      "{15} es impar\n",
      "{18} es par\n",
      "{21} es impar\n",
      "{24} es par\n",
      "{27} es impar\n",
      "{30} es par\n",
      "{33} es impar\n",
      "{36} es par\n",
      "{39} es impar\n",
      "{42} es par\n",
      "{45} es impar\n",
      "{48} es par\n",
      "{51} es impar\n"
     ]
    }
   ],
   "source": [
    "y = int(input(\"Numero: \"))\n",
    "\n",
    "for x in range(y, y + 50, 3):\n",
    "    if x % 2 == 0:\n",
    "        print({x}, \"es par\")\n",
    "    else:\n",
    "        print({x}, \"es impar\")\n",
    "\n",
    "\n",
    "#En este caso utilizamos el range para sea cual sea el número dado por el usuario, que la \n",
    "#x vaya iterandose en ese rango de y,y+20.\n",
    "#El último 3 te dice los incrementos de unidades que necesitas.\n",
    "# El signo % significa \" resto \" de la división"
   ]
  },
  {
   "cell_type": "markdown",
   "metadata": {
    "id": "h3g5bXUB-c9u"
   },
   "source": [
    "#### Ejercicio 5\n",
    "Para practicar el uso de condiciones lógicas y la definición de funciones, construir una función con una sentencia condicional que verifique si un año es bisiesto o no. Para que un año sea bisiesto debe cumplir una de dos condiciones:\n",
    "\n",
    "(a) que sea divisible por 400; o\n",
    "\n",
    "(b) que sea divisible por 4 y no sea divisible por 100\n",
    "\n",
    "Notar que son dos condiciones, donde la segunda condición tiene dos componentes. Prueben la función con 3 valores para verificar que funcione."
   ]
  },
  {
   "cell_type": "code",
   "execution_count": 32,
   "metadata": {
    "editable": true,
    "id": "7_MnILdz-c9v",
    "slideshow": {
     "slide_type": ""
    },
    "tags": []
   },
   "outputs": [],
   "source": [
    "# Resolver acá\n",
    "\n",
    "def bis(Año):\n",
    "    if Año % 400 == 0 or (Año % 4 == 0 and Año % 100 != 0):\n",
    "        print(\"Este año es bisiesto\")\n",
    "    else:\n",
    "        print(\"Este año no es bisiesto\")\n",
    "\n",
    "\n",
    "#Armamos una función que se pueda usar con cualquier input númerico.\n",
    "#Según las 2 condiciones te dice si el año es bisiesto o no"
   ]
  },
  {
   "cell_type": "code",
   "execution_count": 34,
   "metadata": {},
   "outputs": [
    {
     "name": "stdin",
     "output_type": "stream",
     "text": [
      "Año 2024\n"
     ]
    },
    {
     "name": "stdout",
     "output_type": "stream",
     "text": [
      "\n",
      "Este año es bisiesto\n"
     ]
    }
   ],
   "source": [
    "num = int(input(\"Año\"))\n",
    "print()\n",
    "bis(num)"
   ]
  },
  {
   "cell_type": "markdown",
   "metadata": {
    "collapsed": true,
    "id": "P3a7bJkd-c9w",
    "jupyter": {
     "outputs_hidden": true
    }
   },
   "source": [
    "#### Ejercicio 6 \n",
    "Pongamos en práctica identificar el type() de cada variable. A continuación tenemos una lista con elementos de diferentes tipos. Construyan un for loop que itere sobre la lista e imprima un cartel indicando el tipo de dato u objeto que hay en cada caso."
   ]
  },
  {
   "cell_type": "code",
   "execution_count": 36,
   "metadata": {
    "id": "jDf4d_Wr-c9w"
   },
   "outputs": [],
   "source": [
    "mi_lista = [10, 34.5, 99999, 'abc', [1,2,3], ('ARG', 1810), {'pob': 45}, True]"
   ]
  },
  {
   "cell_type": "code",
   "execution_count": 38,
   "metadata": {
    "id": "SAJgEiNEFQAS"
   },
   "outputs": [
    {
     "name": "stdout",
     "output_type": "stream",
     "text": [
      "[<class 'int'>, <class 'float'>, <class 'int'>, <class 'str'>, <class 'list'>, <class 'tuple'>, <class 'dict'>, <class 'bool'>]\n"
     ]
    },
    {
     "data": {
      "text/html": [
       "<div>\n",
       "<style scoped>\n",
       "    .dataframe tbody tr th:only-of-type {\n",
       "        vertical-align: middle;\n",
       "    }\n",
       "\n",
       "    .dataframe tbody tr th {\n",
       "        vertical-align: top;\n",
       "    }\n",
       "\n",
       "    .dataframe thead th {\n",
       "        text-align: right;\n",
       "    }\n",
       "</style>\n",
       "<table border=\"1\" class=\"dataframe\">\n",
       "  <thead>\n",
       "    <tr style=\"text-align: right;\">\n",
       "      <th></th>\n",
       "      <th>Columna1</th>\n",
       "      <th>Columna2</th>\n",
       "    </tr>\n",
       "  </thead>\n",
       "  <tbody>\n",
       "    <tr>\n",
       "      <th>0</th>\n",
       "      <td>10</td>\n",
       "      <td>&lt;class 'int'&gt;</td>\n",
       "    </tr>\n",
       "    <tr>\n",
       "      <th>1</th>\n",
       "      <td>34.5</td>\n",
       "      <td>&lt;class 'float'&gt;</td>\n",
       "    </tr>\n",
       "    <tr>\n",
       "      <th>2</th>\n",
       "      <td>99999</td>\n",
       "      <td>&lt;class 'int'&gt;</td>\n",
       "    </tr>\n",
       "    <tr>\n",
       "      <th>3</th>\n",
       "      <td>abc</td>\n",
       "      <td>&lt;class 'str'&gt;</td>\n",
       "    </tr>\n",
       "    <tr>\n",
       "      <th>4</th>\n",
       "      <td>[1, 2, 3]</td>\n",
       "      <td>&lt;class 'list'&gt;</td>\n",
       "    </tr>\n",
       "    <tr>\n",
       "      <th>5</th>\n",
       "      <td>(ARG, 1810)</td>\n",
       "      <td>&lt;class 'tuple'&gt;</td>\n",
       "    </tr>\n",
       "    <tr>\n",
       "      <th>6</th>\n",
       "      <td>{'pob': 45}</td>\n",
       "      <td>&lt;class 'dict'&gt;</td>\n",
       "    </tr>\n",
       "    <tr>\n",
       "      <th>7</th>\n",
       "      <td>True</td>\n",
       "      <td>&lt;class 'bool'&gt;</td>\n",
       "    </tr>\n",
       "  </tbody>\n",
       "</table>\n",
       "</div>"
      ],
      "text/plain": [
       "      Columna1         Columna2\n",
       "0           10    <class 'int'>\n",
       "1         34.5  <class 'float'>\n",
       "2        99999    <class 'int'>\n",
       "3          abc    <class 'str'>\n",
       "4    [1, 2, 3]   <class 'list'>\n",
       "5  (ARG, 1810)  <class 'tuple'>\n",
       "6  {'pob': 45}   <class 'dict'>\n",
       "7         True   <class 'bool'>"
      ]
     },
     "execution_count": 38,
     "metadata": {},
     "output_type": "execute_result"
    }
   ],
   "source": [
    "# Resolver acá\n",
    "\n",
    "import pandas as pd \n",
    "lista2=[] # Lista vacía\n",
    "\n",
    "for x in list (mi_lista): # Que la x vaya pasando por cada elemento de la lists\n",
    "    lista2.append(type(x))# Que en Lista 2 aparezca, en orden, el type del elemento.\n",
    "print(lista2)\n",
    "\n",
    "df_listvalor = pd.DataFrame({'Columna1': mi_lista, 'Columna2': lista2})# Dataframe con elemento de mi_lista + Lista2\n",
    "df_listvalor\n",
    "\n"
   ]
  },
  {
   "cell_type": "markdown",
   "metadata": {
    "id": "y1lncitl-c9x"
   },
   "source": [
    "#### Ejercicio 7\n",
    "Ahora definan ustedes una nueva lista, en la que los primeros cuatro elementos sean palabras (strings), el quinto elemento no sea string, y el sexto sea string. Construyan un for loop que corra por la lista y que imprima la palabra y la longitud de la misma. Que el loop contenga una sentencia condicional que imprima un cartel \"Elemento no es un string: < el elemento > | < class del elemento >\" para los casos dónde el elemento evaluado no sea string."
   ]
  },
  {
   "cell_type": "code",
   "execution_count": null,
   "metadata": {
    "id": "bFOk9Os0-c9x"
   },
   "outputs": [
    {
     "name": "stdout",
     "output_type": "stream",
     "text": [
      "Hola 4\n",
      "Juan 4\n",
      "999 3\n",
      "abc 3\n",
      "Elemento no es un string 2 es un : <class 'int'>\n",
      "Población 9\n"
     ]
    }
   ],
   "source": [
    "\n",
    "# Resolver acá\n",
    "Lista= [\"Hola\", \"Juan\", \"999\", \"abc\", 2 , \"Población\"]\n",
    "\n",
    "for x in Lista: \n",
    "    if isinstance(x, str):#Isinstance, chequea cómo se categoriza el elemento(string, int,bool, etc)\n",
    "        y= len(x) #llamamos y a la Q de letras de cada palabra\n",
    "        print(x,y) #Va printiando elemento + Qletras\n",
    "    else:\n",
    "        print(\"Elemento no es un string\", x , \"es un :\", type(x))"
   ]
  },
  {
   "cell_type": "markdown",
   "metadata": {},
   "source": [
    "#### Ejercicio 8"
   ]
  },
  {
   "cell_type": "markdown",
   "metadata": {},
   "source": [
    "Construyan una función llamada 'suma' que tome una cantidad variable de parámetros y devuelva el resultado de la suma."
   ]
  },
  {
   "cell_type": "code",
   "execution_count": 40,
   "metadata": {},
   "outputs": [
    {
     "data": {
      "text/plain": [
       "68"
      ]
     },
     "execution_count": 40,
     "metadata": {},
     "output_type": "execute_result"
    }
   ],
   "source": [
    "# Resolver acá\n",
    "def suma(*x): #El asterisco permite pasarlo como un argumento separado de la funcion\n",
    "    return sum(x)\n",
    "\n",
    "lista = [3, 2, 3, 2, 1, 5, 6, 7, 8, 6, 5]\n",
    "lista2 =  [3,9,9,9,1, 5, 6, 7, 8, 6, 5]\n",
    "suma(*lista2)  \n",
    "\n"
   ]
  },
  {
   "cell_type": "markdown",
   "metadata": {
    "id": "PUpxDz72-c9x"
   },
   "source": [
    "#### Ejercicio 9\n",
    "Argentina tiene una representación legislativa proporcional en la cual la cantidad de diputados se debería ajustar según el tamaño de población de cada provincia. Otra característica de la representación legislativa del país es que hay una cantidad mínima de diputados por provincia (5). Esto genera un desbalance en la cantidad de ciudadanos por cada representante en el Congreso entre provincias.\n",
    "\n",
    "A continuación preparamos algunos ejemplos, dividiendo la población de cada provincia (según estimación para el 2022) por la cantidad de representantes en el Congreso para esa misma jurisdicción. También armamos el equivalente para el total país y una lista con los valores provinciales.\n",
    "\n",
    "En este ejercicio les pedimos que construyan un for loop que itere sobre el diccionario definido y compare cada valor provincial contra el valor de proporcionalidad directa (la variable argentina). El loop debe imprimir una leyenda que indique si la provincia está sobrerepresentada, subrepresentada o con representación proporcional. Además, queremos que el mismo loop compare los valores de las provincias sobrerepresentadas y que guarde el valor de la provincia con mayor sobrerepresentación. Luego del loop impriman este valor así podemos ver que haya funcionado.\n",
    "\n",
    "Fuente para población: https://es.wikipedia.org/wiki/Demograf%C3%ADa_de_Argentina\n",
    "\n",
    "Fuente para representantes: https://es.wikipedia.org/wiki/C%C3%A1mara_de_Diputados_de_la_Naci%C3%B3n_Argentina"
   ]
  },
  {
   "cell_type": "code",
   "execution_count": 42,
   "metadata": {
    "id": "hd8Z5AHs-c9y"
   },
   "outputs": [],
   "source": [
    "# Valor de referencia: proporcionalidad\n",
    "argentina = 46044703 / 257\n",
    "\n",
    "# Creamos variables para una selección de jurisdicciones\n",
    "cordoba = 3978984 / 18\n",
    "santa_fe = 3556522 / 19\n",
    "mendoza = 2014533 / 10\n",
    "buenos_aires = 17569053 / 70\n",
    "entre_rios =  1426426 / 9\n",
    "santa_cruz = 333473 / 5\n",
    "formosa = 606041 / 5\n",
    "\n",
    "# Definimos el diccionario para iterar\n",
    "dict_provincias = {\"Córdoba\": cordoba,\"Santa Fe\": santa_fe,\"Mendoza\": mendoza,\"Buenos Aires\": buenos_aires,\"Entre Ríos\": entre_rios,\"Santa Cruz\": santa_cruz, \"Formosa\": formosa}\n"
   ]
  },
  {
   "cell_type": "code",
   "execution_count": 44,
   "metadata": {
    "id": "fsEHnxiY-c9y",
    "scrolled": true
   },
   "outputs": [
    {
     "name": "stdout",
     "output_type": "stream",
     "text": [
      "Córdoba tiene una sobrerepresentación\n",
      "Santa Fe tiene una sobrerepresentación\n",
      "Mendoza tiene una sobrerepresentación\n",
      "Buenos Aires tiene una sobrerepresentación\n",
      "Entre Ríos tiene una subrepresentación\n",
      "Santa Cruz tiene una subrepresentación\n",
      "Formosa tiene una subrepresentación\n",
      "La provincia con mayor sobrerepresentación es Buenos Aires con un valor en de: % 40 aprox\n"
     ]
    }
   ],
   "source": [
    "# Resolver acá\n",
    "\n",
    "# Lo que costó hacer este codigo!!!!\n",
    "\n",
    "# Creamos un diccionario para solamente almacenar las provincias sobrerepresentadas y asi despues poder llamar al maximo\n",
    "diccionario_sobrerepresentacion = {}\n",
    "\n",
    "# Recorrer todo el diccionario separando entree sub, proporcional, y sobre.\n",
    "for provincia, valor in dict_provincias.items(): \n",
    "    if valor > argentina:\n",
    "        print(provincia, \"tiene una sobrerepresentación\")\n",
    "        diccionario_sobrerepresentacion[provincia] = valor / argentina  # Guardamos los valores de SOBRE representacion en comparacion con argentina.\n",
    "    elif valor == argentina:\n",
    "        print(provincia, \"tiene una representación proporcional\")\n",
    "    elif valor < argentina:\n",
    "        print(provincia, \"tiene una subrepresentación\")\n",
    "\n",
    "# Crear una lista para guardar los VALORES(solo los valores), de los maximos sobrerepresentados\n",
    "lista = []\n",
    "for valor in diccionario_sobrerepresentacion.items():\n",
    "    lista.append(valor[1] - 1)\n",
    "\n",
    "# Acá encontramos las provincia con mayor numero de sobrerepsresentacion en comparacion con argentina. \"Get\" lo usamos para que funcione la funcion max en diccionario\n",
    "provincia_max = max(diccionario_sobrerepresentacion, key=diccionario_sobrerepresentacion.get)\n",
    "# Convertimos el valor en porcentaje para que quede mas lindo presentado\n",
    "valor_max_porcentaje = max(lista) * 100\n",
    "\n",
    "# Imprimir el resultado final, claro, corto y consciso.\n",
    "print(\"La provincia con mayor sobrerepresentación es\", provincia_max, \"con un valor en de: %\", round(valor_max_porcentaje), \"aprox\")\n"
   ]
  },
  {
   "cell_type": "markdown",
   "metadata": {
    "id": "GokZe5tV-c9z"
   },
   "source": [
    "#### Ejercicio 10\n",
    "Si buscáramos minimizar la subrepresentación de la provincia de Buenos Aires, ¿cuántos representantes debería tener según el Censo 2022? Usemos el mismo criterio de sub/sobrerepresentacion que en el ejercicio anterior: población sobre cantidad de representantes.\n",
    "\n",
    "Para responder esta pregunta construyan un while loop que incremente de a uno la cantidad de representantes de la Provincia hasta minimizar la subrepresentación. En cada iteración impriman un cartel que diga: \"Se agregó un representante, el total ahora es X\" dónde X es el número de representantes simulado."
   ]
  },
  {
   "cell_type": "code",
   "execution_count": 47,
   "metadata": {},
   "outputs": [
    {
     "name": "stdout",
     "output_type": "stream",
     "text": [
      "Se agregó un representante, hay 71 y aún no es suficiente.\n",
      "Se agregó un representante, hay 72 y aún no es suficiente.\n",
      "Se agregó un representante, hay 73 y aún no es suficiente.\n",
      "Se agregó un representante, hay 74 y aún no es suficiente.\n",
      "Se agregó un representante, hay 75 y aún no es suficiente.\n",
      "Se agregó un representante, hay 76 y aún no es suficiente.\n",
      "Se agregó un representante, hay 77 y aún no es suficiente.\n",
      "Se agregó un representante, hay 78 y aún no es suficiente.\n",
      "Se agregó un representante, hay 79 y aún no es suficiente.\n",
      "Se agregó un representante, hay 80 y aún no es suficiente.\n",
      "Se agregó un representante, hay 81 y aún no es suficiente.\n",
      "Se agregó un representante, hay 82 y aún no es suficiente.\n",
      "Se agregó un representante, hay 83 y aún no es suficiente.\n",
      "Se agregó un representante, hay 84 y aún no es suficiente.\n",
      "Se agregó un representante, hay 85 y aún no es suficiente.\n",
      "Se agregó un representante, hay 86 y aún no es suficiente.\n",
      "Se agregó un representante, hay 87 y aún no es suficiente.\n",
      "Se agregó un representante, hay 88 y aún no es suficiente.\n",
      "Se agregó un representante, hay 89 y aún no es suficiente.\n",
      "Se agregó un representante, hay 90 y aún no es suficiente.\n",
      "Se agregó un representante, hay 91 y aún no es suficiente.\n",
      "Se agregó un representante, hay 92 y aún no es suficiente.\n",
      "Se agregó un representante, hay 93 y aún no es suficiente.\n",
      "Se agregó un representante, hay 94 y aún no es suficiente.\n",
      "Se agregó un representante, hay 95 y aún no es suficiente.\n",
      "Se agregó un representante, hay 96 y aún no es suficiente.\n",
      "Se agregó un representante, hay 97 y aún no es suficiente.\n",
      "Se agregó un representante, hay 98 y aún no es suficiente.\n",
      "Se agregó un representante, hay 99 y aún no es suficiente.\n",
      "Se ha alcanzado una representación proporcional con 99 representantes.\n"
     ]
    }
   ],
   "source": [
    "# Resolver acá\n",
    "# Datos\n",
    "representantes_pba = 70\n",
    "poblacion2010_pba = 17594428\n",
    "argentina = 46044703 / 257  # Población nacional dividida por el total de representantes(Proporcion de habitates x representante)\n",
    "\n",
    "# While siempre que la propoción por habitante de pba sea mayor a la de argentina en sí\n",
    "while (poblacion2010_pba / representantes_pba) > argentina:  \n",
    "    representantes_pba += 1  # Agrega un representante cada vuelta del while\n",
    "    print(f\"Se agregó un representante, hay {representantes_pba} y aún no es suficiente.\")  # Imprime en cada iteración, el aumento de los representante y que aún no es suficiente\n",
    "    \n",
    "    if representantes_pba > 257:  # Por las dudas, para prevenir errores fuera de la lógica.\n",
    "        print(\"Hubo un error, el número de representantes ha superado los 257. No debería pasar.\")\n",
    "        break  # Rompe el loop\n",
    "\n",
    "# Este mensaje se imprime cuando se alcanza el objetivo de representación proporcional\n",
    "print(f\"Se ha alcanzado una representación proporcional con {representantes_pba} representantes.\")\n",
    "\n"
   ]
  },
  {
   "cell_type": "code",
   "execution_count": null,
   "metadata": {
    "editable": true,
    "slideshow": {
     "slide_type": ""
    },
    "tags": []
   },
   "outputs": [],
   "source": []
  }
 ],
 "metadata": {
  "anaconda-cloud": {},
  "colab": {
   "name": "TP1 - Parte 1.ipynb",
   "provenance": []
  },
  "kernelspec": {
   "display_name": "Python 3 (ipykernel)",
   "language": "python",
   "name": "python3"
  },
  "language_info": {
   "codemirror_mode": {
    "name": "ipython",
    "version": 3
   },
   "file_extension": ".py",
   "mimetype": "text/x-python",
   "name": "python",
   "nbconvert_exporter": "python",
   "pygments_lexer": "ipython3",
   "version": "3.12.4"
  }
 },
 "nbformat": 4,
 "nbformat_minor": 4
}
